{
 "cells": [
  {
   "cell_type": "code",
   "execution_count": 89,
   "id": "04077967",
   "metadata": {},
   "outputs": [
    {
     "name": "stdout",
     "output_type": "stream",
     "text": [
      "[PhysicalDevice(name='/physical_device:GPU:0', device_type='GPU')]\n"
     ]
    }
   ],
   "source": [
    "#import pandas as pd \n",
    "import tensorflow as tf\n",
    "print(tf.config.list_physical_devices('GPU'))\n",
    "\n"
   ]
  },
  {
   "cell_type": "code",
   "execution_count": 90,
   "id": "fbf3b41a",
   "metadata": {},
   "outputs": [],
   "source": [
    "import numpy as np "
   ]
  },
  {
   "cell_type": "code",
   "execution_count": 91,
   "id": "8e0f28bd",
   "metadata": {},
   "outputs": [
    {
     "name": "stdout",
     "output_type": "stream",
     "text": [
      "Hello ese\n"
     ]
    }
   ],
   "source": [
    "print(\"Hello ese\")"
   ]
  },
  {
   "cell_type": "code",
   "execution_count": 92,
   "id": "5ca24e45",
   "metadata": {},
   "outputs": [
    {
     "name": "stdout",
     "output_type": "stream",
     "text": [
      "Python 3.12.3\n",
      "Numpy 2.3.3\n",
      "TensorFlow 2.20.0\n"
     ]
    }
   ],
   "source": [
    "!python --version\n",
    "print('Numpy ' + np.__version__)\n",
    "print('TensorFlow ' + tf.__version__)"
   ]
  },
  {
   "cell_type": "code",
   "execution_count": 93,
   "id": "e02bb7bc",
   "metadata": {},
   "outputs": [
    {
     "name": "stdout",
     "output_type": "stream",
     "text": [
      "2.8.0+cu128\n"
     ]
    }
   ],
   "source": [
    "\n",
    "import torch \n",
    "import torch.nn as nn \n",
    "print(torch.__version__)"
   ]
  },
  {
   "cell_type": "code",
   "execution_count": 94,
   "id": "f05191fe",
   "metadata": {},
   "outputs": [],
   "source": [
    "\n",
    "\n",
    "class CNNBlock(nn.Module):\n",
    "    def __init__(self, in_channels, out_channels, stride):\n",
    "        super().__init__()\n",
    "        self.conv = nn.Sequential(\n",
    "            nn.Conv2d(in_channels, out_channels, 4, stride, bias=False, padding_mode=\"reflect\"), \n",
    "            nn.BatchNorm2d(out_channels),\n",
    "            nn.LeakyReLU(0.2), \n",
    "        )\n",
    "\n",
    "    def forward(self, x):\n",
    "        return self.conv(x)\n",
    "    \n",
    "class Discriminator(nn.Module):\n",
    "    def __init__(self, in_channels=3, features=[64, 128, 256, 512]): \n",
    "        super().__init__()\n",
    "        self.initial = nn.Sequential(\n",
    "            nn.Conv2d(in_channels*2, features[0], kernel_size=4, stride=2, padding=1, padding_mode=\"reflect\"),\n",
    "            nn.LeakyReLU(0.2),  \n",
    "        )\n",
    "\n",
    "        layers = []\n",
    "        in_channels = features[0]\n",
    "        for feature in features[1:]:\n",
    "            layers.append(\n",
    "                CNNBlock(in_channels, feature, stride=1 if feature == features[-1] else 2),\n",
    "            ) \n",
    "            in_channels = feature\n",
    "\n",
    "        \n",
    "        layers.append(\n",
    "            nn.Conv2d(\n",
    "                in_channels, 1, kernel_size=4, stride=1, padding=1, padding_mode=\"reflect\"\n",
    "            ),\n",
    "        )\n",
    "\n",
    "\n",
    "        self.model = nn.Sequential(*layers)\n",
    "\n",
    "    def forward(self, x, y): \n",
    "        x = torch.cat([x, y], dim=1)\n",
    "        x = self.initial(x)\n",
    "        return self.model(x)\n"
   ]
  },
  {
   "cell_type": "code",
   "execution_count": 95,
   "id": "4243c95e",
   "metadata": {},
   "outputs": [],
   "source": [
    "def test():\n",
    "    x = torch.randn((1, 3, 256, 256))\n",
    "    y = torch.randn((1, 3, 256, 256))\n",
    "    model = Discriminator()\n",
    "    preds = model(x, y)\n",
    "    print(preds.shape)\n",
    "\n"
   ]
  },
  {
   "cell_type": "code",
   "execution_count": 96,
   "id": "87ef47cc",
   "metadata": {},
   "outputs": [
    {
     "name": "stdout",
     "output_type": "stream",
     "text": [
      "torch.Size([1, 1, 26, 26])\n"
     ]
    }
   ],
   "source": [
    "if __name__ == \"__main__\":\n",
    "    test()"
   ]
  },
  {
   "cell_type": "code",
   "execution_count": 97,
   "id": "944e52cf",
   "metadata": {},
   "outputs": [],
   "source": [
    "###################################"
   ]
  },
  {
   "cell_type": "code",
   "execution_count": 117,
   "id": "fb0dd681",
   "metadata": {},
   "outputs": [],
   "source": [
    "class Block(nn.Module):\n",
    "    def __init__(self, in_channels, out_channels, down=True, act=\"relu\", use_dropout=False):\n",
    "        super().__init__()\n",
    "        self.conv = nn.Sequential(\n",
    "            nn.Conv2d(in_channels, out_channels, 4, 2, 1, bias=False, padding_mode=\"reflect\")\n",
    "            if down \n",
    "            else nn.ConvTranspose2d(in_channels, out_channels, 4, 2, 1, bias = False), \n",
    "            nn.BatchNorm2d(out_channels),\n",
    "            nn.ReLU() if act == \"relu\" else nn.LeakyReLU(0.2), \n",
    "\n",
    "        )\n",
    "        self.use_dropout = use_dropout\n",
    "        self.dropout = nn.Dropout(0.5)\n",
    "\n",
    "    def forward(self, x):\n",
    "        x = self.conv(x)\n",
    "        return self.dropout(x) if self.use_dropout else x \n",
    "    \n",
    "\n",
    "class Generator(nn.Module):\n",
    "    def __init__(self, in_channels = 3, features=64): \n",
    "        super().__init__()   \n",
    "        self.initial_down = nn.Sequential(\n",
    "            nn.Conv2d(in_channels, features, 4, 2, 1, padding_mode=\"reflect\"),\n",
    "            nn.LeakyReLU(0.2),\n",
    "\n",
    "        ) #128 after this one \n",
    "\n",
    "        self.down1 = Block(features, features*2, down=True, act=\"leaky\", use_dropout=False )    #64x64 \n",
    "        self.down2 = Block(features*2, features*4, down=True, act=\"leaky\", use_dropout=False )  #32x32 \n",
    "        self.down3 = Block(features*4, features*8, down=True, act=\"leaky\", use_dropout=False )  #16\n",
    "        self.down4 = Block(features*8, features*8, down=True, act=\"leaky\", use_dropout=False )  #8\n",
    "        self.down5 = Block(features*8, features*8, down=True, act=\"leaky\", use_dropout=False )  #4 \n",
    "        self.down6 = Block(features*8, features*8, down=True, act=\"leaky\", use_dropout=False )  #2\n",
    "        self.bottleneck = nn.Sequential(\n",
    "            nn.Conv2d(features*8, features*8, 4, 2, 1, padding_mode=\"reflect\"), nn.ReLU(), #1x1\n",
    "        )\n",
    "        self.up1 = Block(features*8, features*8, down=False, act=\"relu\", use_dropout=True) #2x2  \n",
    "        self.up2 = Block(features*8*2, features*8, down=False, act=\"relu\", use_dropout=True) #4x4\n",
    "        self.up3 = Block(features*8*2, features*8, down=False, act=\"relu\", use_dropout=True) #8x8\n",
    "        self.up4 = Block(features*8*2, features*8, down=False, act=\"relu\", use_dropout=False) #16x16\n",
    "        self.up5 = Block(features*8*2, features*4, down=False, act=\"relu\", use_dropout=False) #32x32\n",
    "        self.up6 = Block(features*4*2, features*2, down=False, act=\"relu\", use_dropout=False) #64x64\n",
    "        self.up7 = Block(features*2*2, features, down=False, act=\"relu\", use_dropout=False) #128x128\n",
    "        self.final_up = nn.Sequential(\n",
    "            nn.ConvTranspose2d(features*2, in_channels, kernel_size=4, stride=2, padding=1), \n",
    "            nn.Tanh(),  #256x256\n",
    "        )\n",
    "\n",
    "    def forward(self, x): \n",
    "        d1 = self.initial_down(x) #128x128 \n",
    "        d2 = self.down1(d1)     #64x64  \n",
    "        d3 = self.down2(d2)     #32x32 \n",
    "        d4 = self.down3(d3)     #16x16\n",
    "        d5 = self.down4(d4)     #8x8\n",
    "        d6 = self.down5(d5)     #4x4\n",
    "        d7 = self.down6(d6)     #2x2\n",
    "        bottleneck = self.bottleneck(d7) #1x1\n",
    "        up1 = self.up1(bottleneck)      #2x2\n",
    "        up2 = self.up2(torch.cat([up1, d7], 1)) #4x4\n",
    "        up3 = self.up3(torch.cat([up2, d6], 1)) #8x8\n",
    "        up4 = self.up4(torch.cat([up3, d5], 1)) #16x16\n",
    "        up5 = self.up5(torch.cat([up4, d4], 1)) #32x32\n",
    "        up6 = self.up6(torch.cat([up5, d3], 1)) #64x64\n",
    "        up7 = self.up7(torch.cat([up6, d2], 1)) #128x128\n",
    "        \n",
    "        return self.final_up(torch.cat([up7, d1 ], 1)) #256x256 \n",
    "        \n",
    "\n",
    "\n",
    "\n",
    "\n",
    "      \n"
   ]
  },
  {
   "cell_type": "code",
   "execution_count": 118,
   "id": "c8190872",
   "metadata": {},
   "outputs": [],
   "source": [
    "def test1(): \n",
    "    x = torch.randn((1, 3, 256, 256))\n",
    "    model = Generator(in_channels=3, features=64)\n",
    "    preds= model(x)\n",
    "    print(preds.shape)\n",
    "\n",
    "\n"
   ]
  },
  {
   "cell_type": "code",
   "execution_count": 119,
   "id": "b12af3ee",
   "metadata": {},
   "outputs": [
    {
     "name": "stdout",
     "output_type": "stream",
     "text": [
      "torch.Size([1, 3, 256, 256])\n"
     ]
    }
   ],
   "source": [
    "if __name__ == \"__main__\":\n",
    "    test1()"
   ]
  },
  {
   "cell_type": "code",
   "execution_count": null,
   "id": "8202600e",
   "metadata": {},
   "outputs": [],
   "source": []
  }
 ],
 "metadata": {
  "kernelspec": {
   "display_name": "ml",
   "language": "python",
   "name": "python3"
  },
  "language_info": {
   "codemirror_mode": {
    "name": "ipython",
    "version": 3
   },
   "file_extension": ".py",
   "mimetype": "text/x-python",
   "name": "python",
   "nbconvert_exporter": "python",
   "pygments_lexer": "ipython3",
   "version": "3.12.3"
  }
 },
 "nbformat": 4,
 "nbformat_minor": 5
}
